{
 "cells": [
  {
   "cell_type": "markdown",
   "id": "1bc14fbc",
   "metadata": {},
   "source": [
    "# Quadratically constrained quadratic programming by CPLEX\n",
    "## Problem statement\n",
    "\n",
    "\n",
    "$\\text{min} \\quad x^TQx + q^Tx + c$\n",
    "\n",
    "Subject to\n",
    "\n",
    "$x^TQ_ix + q_i^Tx + c_i \\leq b, \\qquad i = 1, \\cdots, m$\n",
    "\n",
    "where \n",
    "\n",
    "$x \\in \\text{R}^n$\n",
    "\n",
    "$c, c_i \\in \\text{R}^{n \\times n}$\n",
    "\n",
    "$Q, Q_i \\in \\text{R}^n$\n",
    "\n",
    "$b \\in \\text{R}^m$\n",
    "\n",
    "## The model\n",
    "\n",
    "$\\text{min} \\quad x^2 + 2y^2 + \\frac{1}{2}z^2$\n",
    "\n",
    "Subject to\n",
    "\n",
    "$x^2 \\geq 1$\n",
    "\n",
    "$y^2 \\geq 1$\n",
    "\n",
    "$y^2 + z^2 \\leq 5$\n",
    "\n",
    "$x, y \\geq 0$\n",
    "\n",
    "$y \\in Z$\n",
    "\n",
    "$z \\in \\{0, 1\\}$"
   ]
  },
  {
   "cell_type": "code",
   "execution_count": 2,
   "id": "26812613",
   "metadata": {},
   "outputs": [],
   "source": [
    "# Create optimization model\n",
    "from docplex.mp.model import Model\n",
    "quadratic_model = Model(name='quadtatic')"
   ]
  },
  {
   "cell_type": "code",
   "execution_count": 3,
   "id": "fba2b3a3",
   "metadata": {},
   "outputs": [],
   "source": [
    "# Add decision variables\n",
    "x = quadratic_model.continuous_var(name='x', lb=0)\n",
    "y = quadratic_model.integer_var(name='y', lb=0)\n",
    "z = quadratic_model.binary_var(name='z')"
   ]
  },
  {
   "cell_type": "code",
   "execution_count": 6,
   "id": "d66c0c8c",
   "metadata": {},
   "outputs": [],
   "source": [
    "# Add constraints\n",
    "c1 = quadratic_model.add(x ** 2 >= 1, name='c1')\n",
    "c2 = quadratic_model.add(y ** 2 >= 1, name='c2')\n",
    "c3 = quadratic_model.add(y ** 2 + z ** 2 <= 5, name='c3')"
   ]
  },
  {
   "cell_type": "code",
   "execution_count": 7,
   "id": "4e05f286",
   "metadata": {},
   "outputs": [],
   "source": [
    "# Define objective function\n",
    "obj = x ** 2 + 2 * y ** 2 + 0.5 * z ** 2\n",
    "quadratic_model.set_objective('min', obj)"
   ]
  },
  {
   "cell_type": "code",
   "execution_count": 8,
   "id": "ba0b8574",
   "metadata": {},
   "outputs": [
    {
     "name": "stdout",
     "output_type": "stream",
     "text": [
      "objective: 3.000\n",
      "status: OPTIMAL_SOLUTION(2)\n",
      "  x=1.000\n",
      "  y=1\n"
     ]
    }
   ],
   "source": [
    "# Solve the model\n",
    "quadratic_model.solve()\n",
    "quadratic_model.print_solution()"
   ]
  }
 ],
 "metadata": {
  "kernelspec": {
   "display_name": "Python 3 (ipykernel)",
   "language": "python",
   "name": "python3"
  },
  "language_info": {
   "codemirror_mode": {
    "name": "ipython",
    "version": 3
   },
   "file_extension": ".py",
   "mimetype": "text/x-python",
   "name": "python",
   "nbconvert_exporter": "python",
   "pygments_lexer": "ipython3",
   "version": "3.7.9"
  }
 },
 "nbformat": 4,
 "nbformat_minor": 5
}

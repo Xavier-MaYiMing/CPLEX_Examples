{
 "cells": [
  {
   "cell_type": "markdown",
   "id": "a6082d19",
   "metadata": {},
   "source": [
    "# Linear Programming by CPLEX\n",
    "## Problem Statement\n",
    "\n",
    "$\\text{min}\\quad 5x + 4y$\n",
    "\n",
    "Subject to\n",
    "\n",
    "$x + y \\geq 8$\n",
    "\n",
    "$2x + y \\geq 10$\n",
    "\n",
    "$x + 4y \\geq 11$\n",
    "\n",
    "$x \\geq 0$\n",
    "\n",
    "$y \\geq 0$"
   ]
  },
  {
   "cell_type": "code",
   "execution_count": 2,
   "id": "8d88845f",
   "metadata": {},
   "outputs": [],
   "source": [
    "# Create optimization model\n",
    "from docplex.mp.model import Model\n",
    "opt_mod = Model(name='Linear Program')"
   ]
  },
  {
   "cell_type": "code",
   "execution_count": 3,
   "id": "a48b27c1",
   "metadata": {},
   "outputs": [],
   "source": [
    "# Add dicision variables\n",
    "x = opt_mod.continuous_var(name='x', lb=0)\n",
    "y = opt_mod.continuous_var(name='y', lb=0)"
   ]
  },
  {
   "cell_type": "code",
   "execution_count": 4,
   "id": "3c3b1790",
   "metadata": {},
   "outputs": [],
   "source": [
    "# Add constraints\n",
    "c1 = opt_mod.add_constraint(x + y >= 8, ctname='c1')\n",
    "c2 = opt_mod.add_constraint(2 * x + y >= 10, ctname='c2')\n",
    "c3 = opt_mod.add_constraint(x + 4 * y >= 11, ctname='c3')"
   ]
  },
  {
   "cell_type": "code",
   "execution_count": 5,
   "id": "4b25f446",
   "metadata": {},
   "outputs": [],
   "source": [
    "# Define objective function\n",
    "opt_mod.set_objective('min', 5 * x + y * 4)"
   ]
  },
  {
   "cell_type": "code",
   "execution_count": 6,
   "id": "57cf24a3",
   "metadata": {},
   "outputs": [
    {
     "name": "stdout",
     "output_type": "stream",
     "text": [
      "objective: 34.000\n",
      "status: OPTIMAL_SOLUTION(2)\n",
      "  x=2.000\n",
      "  y=6.000\n"
     ]
    }
   ],
   "source": [
    "# Solve the model\n",
    "opt_mod.solve()\n",
    "opt_mod.print_solution()"
   ]
  }
 ],
 "metadata": {
  "kernelspec": {
   "display_name": "Python 3 (ipykernel)",
   "language": "python",
   "name": "python3"
  },
  "language_info": {
   "codemirror_mode": {
    "name": "ipython",
    "version": 3
   },
   "file_extension": ".py",
   "mimetype": "text/x-python",
   "name": "python",
   "nbconvert_exporter": "python",
   "pygments_lexer": "ipython3",
   "version": "3.7.9"
  }
 },
 "nbformat": 4,
 "nbformat_minor": 5
}

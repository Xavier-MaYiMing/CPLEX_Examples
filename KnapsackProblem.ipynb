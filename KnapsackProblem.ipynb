{
 "cells": [
  {
   "cell_type": "markdown",
   "id": "3f0de1d0",
   "metadata": {},
   "source": [
    "# Knapsack problem solved by CPLEX\n",
    "## Problem Statement\n",
    "\n",
    "$\\text{max} \\sum_{i=1}^N v_ix_i$\n",
    "\n",
    "Subject to\n",
    "\n",
    "$\\sum_{i=1}^N w_ix_i \\leq C$\n",
    "\n",
    "$x_i \\in \\{0, 1\\}, \\qquad \\forall i=1, \\cdots, N$"
   ]
  },
  {
   "cell_type": "code",
   "execution_count": 1,
   "id": "b434fad7",
   "metadata": {},
   "outputs": [],
   "source": [
    "# Knapsack problem\n",
    "w = [4, 2, 5, 4, 5, 1, 3, 5]\n",
    "v = [10, 5, 18, 12, 15, 1, 2, 8]\n",
    "C = 15\n",
    "N = len(w)"
   ]
  },
  {
   "cell_type": "code",
   "execution_count": 2,
   "id": "ea296bcf",
   "metadata": {},
   "outputs": [],
   "source": [
    "# Create optimization model\n",
    "from docplex.mp.model import Model\n",
    "knapsack_model = Model(name='knapsack')"
   ]
  },
  {
   "cell_type": "code",
   "execution_count": 3,
   "id": "4818c267",
   "metadata": {},
   "outputs": [],
   "source": [
    "# Add decision variables\n",
    "x = knapsack_model.binary_var_list(N, name='x')"
   ]
  },
  {
   "cell_type": "code",
   "execution_count": 4,
   "id": "00e849bc",
   "metadata": {},
   "outputs": [],
   "source": [
    "# Add constraints\n",
    "c1 = knapsack_model.add_constraint(sum(w[i] * x[i] for i in range(N)) <= C, ctname='c1')"
   ]
  },
  {
   "cell_type": "code",
   "execution_count": 5,
   "id": "f5791b03",
   "metadata": {},
   "outputs": [],
   "source": [
    "# Define objective function\n",
    "obj = sum(v[i] * x[i] for i in range(N))\n",
    "knapsack_model.set_objective('max', obj)"
   ]
  },
  {
   "cell_type": "code",
   "execution_count": 6,
   "id": "d5b6986c",
   "metadata": {},
   "outputs": [
    {
     "name": "stdout",
     "output_type": "stream",
     "text": [
      "objective: 46\n",
      "status: OPTIMAL_SOLUTION(2)\n",
      "  x_2=1\n",
      "  x_3=1\n",
      "  x_4=1\n",
      "  x_5=1\n"
     ]
    }
   ],
   "source": [
    "# Solve the model\n",
    "knapsack_model.solve()\n",
    "knapsack_model.print_solution()"
   ]
  }
 ],
 "metadata": {
  "kernelspec": {
   "display_name": "Python 3 (ipykernel)",
   "language": "python",
   "name": "python3"
  },
  "language_info": {
   "codemirror_mode": {
    "name": "ipython",
    "version": 3
   },
   "file_extension": ".py",
   "mimetype": "text/x-python",
   "name": "python",
   "nbconvert_exporter": "python",
   "pygments_lexer": "ipython3",
   "version": "3.7.9"
  }
 },
 "nbformat": 4,
 "nbformat_minor": 5
}

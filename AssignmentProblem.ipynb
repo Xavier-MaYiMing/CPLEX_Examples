{
 "cells": [
  {
   "cell_type": "markdown",
   "id": "73adcee4",
   "metadata": {},
   "source": [
    "# Assignment problem solved by CPLEX\n",
    "## Problem statement\n",
    "\n",
    "\n",
    "$n$ workers, $n$ tasks;\n",
    "\n",
    "worker $i$ does task $j$ need cost $c_{ij}$.\n",
    "\n",
    "$\\text{min}\\quad \\sum_{i=1}^n \\sum_{j=1}^n c_{ij} x_{ij}$\n",
    "\n",
    "Subject to\n",
    "\n",
    "$\\sum_{i=1}^n x_{ij} \\leq 1, \\qquad \\forall j = 1, \\cdots, n$ (workload)\n",
    "\n",
    "$\\sum_{j=1}^n x_{ij} = 1, \\qquad, \\forall i = 1, \\cdots, n$ (task completion)\n",
    "\n",
    "$x_{ij} \\in \\{0, 1\\}, \\qquad \\forall i, j = 1, \\cdots, n$"
   ]
  },
  {
   "cell_type": "code",
   "execution_count": 1,
   "id": "eb4db8b5",
   "metadata": {},
   "outputs": [],
   "source": [
    "# Assignment problem\n",
    "import numpy as np\n",
    "cost = np.random.randint(1, 10, (4, 4))"
   ]
  },
  {
   "cell_type": "code",
   "execution_count": 2,
   "id": "927ae9e4",
   "metadata": {},
   "outputs": [],
   "source": [
    "# Create optimization model\n",
    "from docplex.mp.model import Model\n",
    "assignment_model = Model(name='assignment')"
   ]
  },
  {
   "cell_type": "code",
   "execution_count": 3,
   "id": "267b1ff4",
   "metadata": {},
   "outputs": [],
   "source": [
    "# Add decision varibles\n",
    "x = assignment_model.binary_var_matrix(cost.shape[0], cost.shape[1], name='x')"
   ]
  },
  {
   "cell_type": "code",
   "execution_count": 4,
   "id": "09fe5ba6",
   "metadata": {},
   "outputs": [],
   "source": [
    "# Add constraints\n",
    "c1 = assignment_model.add_constraints((sum(x[i, j] for i in range(cost.shape[0])) <= 1 for j in range(cost.shape[1])), names='workload')\n",
    "c2 = assignment_model.add_constraints((sum(x[i, j] for j in range(cost.shape[1])) == 1 for i in range(cost.shape[0])), names='task_completion')"
   ]
  },
  {
   "cell_type": "code",
   "execution_count": 5,
   "id": "dad4c227",
   "metadata": {},
   "outputs": [],
   "source": [
    "# Define objective function\n",
    "obj = sum(cost[i, j] * x[i, j] for i in range(cost.shape[0]) for j in range(cost.shape[1]))\n",
    "assignment_model.set_objective('min', obj)"
   ]
  },
  {
   "cell_type": "code",
   "execution_count": 6,
   "id": "5aa9c5cd",
   "metadata": {},
   "outputs": [
    {
     "name": "stdout",
     "output_type": "stream",
     "text": [
      "objective: 12\n",
      "status: OPTIMAL_SOLUTION(2)\n",
      "  x_0_3=1\n",
      "  x_1_1=1\n",
      "  x_2_0=1\n",
      "  x_3_2=1\n"
     ]
    }
   ],
   "source": [
    "# Solve the model\n",
    "assignment_model.solve()\n",
    "assignment_model.print_solution()"
   ]
  }
 ],
 "metadata": {
  "kernelspec": {
   "display_name": "Python 3 (ipykernel)",
   "language": "python",
   "name": "python3"
  },
  "language_info": {
   "codemirror_mode": {
    "name": "ipython",
    "version": 3
   },
   "file_extension": ".py",
   "mimetype": "text/x-python",
   "name": "python",
   "nbconvert_exporter": "python",
   "pygments_lexer": "ipython3",
   "version": "3.7.9"
  }
 },
 "nbformat": 4,
 "nbformat_minor": 5
}

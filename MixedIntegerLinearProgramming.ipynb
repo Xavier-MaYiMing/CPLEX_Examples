{
 "cells": [
  {
   "cell_type": "markdown",
   "id": "82638460",
   "metadata": {},
   "source": [
    "# Mixed integer linear programming by CPLEX\n",
    "## Problem statement\n",
    "\n",
    "$\\text{max}\\quad 2x + y + 3z$\n",
    "\n",
    "Subject to\n",
    "\n",
    "$x + 2y + z \\leq 4$\n",
    "\n",
    "$y + 2z \\leq 5$\n",
    "\n",
    "$x + y \\geq 1$\n",
    "\n",
    "$x \\in \\{0, 1\\}$\n",
    "\n",
    "$y \\geq 0$\n",
    "\n",
    "$z \\geq 0$\n",
    "\n",
    "$z$ is an integer"
   ]
  },
  {
   "cell_type": "code",
   "execution_count": 11,
   "id": "1d582c13",
   "metadata": {},
   "outputs": [],
   "source": [
    "# Creat optimization model\n",
    "from docplex.mp.model import Model\n",
    "milp_model = Model(name='MILP')"
   ]
  },
  {
   "cell_type": "code",
   "execution_count": 12,
   "id": "a314cc69",
   "metadata": {},
   "outputs": [],
   "source": [
    "# Add decision variables\n",
    "x = milp_model.binary_var(name='x')\n",
    "y = milp_model.continuous_var(name='y', lb=0)\n",
    "z = milp_model.integer_var(name='z', lb=0)"
   ]
  },
  {
   "cell_type": "code",
   "execution_count": 13,
   "id": "5a45ad15",
   "metadata": {},
   "outputs": [],
   "source": [
    "# Add constraints\n",
    "c1 = milp_model.add_constraint(x + 2 * y + z <= 4, ctname='c1')\n",
    "c2 = milp_model.add_constraint(y + 2 * z <= 5, ctname='c2')\n",
    "c3 = milp_model.add_constraint(x + y >= 1, ctname='c3')"
   ]
  },
  {
   "cell_type": "code",
   "execution_count": 14,
   "id": "acdd278a",
   "metadata": {},
   "outputs": [],
   "source": [
    "# Define objective function\n",
    "milp_model.set_objective('max', 2 * x + y + 3 * z)"
   ]
  },
  {
   "cell_type": "code",
   "execution_count": 15,
   "id": "3624bbf5",
   "metadata": {},
   "outputs": [
    {
     "name": "stdout",
     "output_type": "stream",
     "text": [
      "objective: 8.500\n",
      "status: OPTIMAL_SOLUTION(2)\n",
      "  x=1\n",
      "  y=0.500\n",
      "  z=2\n"
     ]
    }
   ],
   "source": [
    "# Solve the model\n",
    "milp_model.solve()\n",
    "milp_model.print_solution()"
   ]
  }
 ],
 "metadata": {
  "kernelspec": {
   "display_name": "Python 3 (ipykernel)",
   "language": "python",
   "name": "python3"
  },
  "language_info": {
   "codemirror_mode": {
    "name": "ipython",
    "version": 3
   },
   "file_extension": ".py",
   "mimetype": "text/x-python",
   "name": "python",
   "nbconvert_exporter": "python",
   "pygments_lexer": "ipython3",
   "version": "3.7.9"
  }
 },
 "nbformat": 4,
 "nbformat_minor": 5
}
